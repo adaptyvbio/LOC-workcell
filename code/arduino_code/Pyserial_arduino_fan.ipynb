{
 "cells": [
  {
   "cell_type": "code",
   "execution_count": 1,
   "id": "27c3b6bd",
   "metadata": {},
   "outputs": [],
   "source": [
    "#opcua\n",
    "from asyncua import Client, Node, ua\n",
    "import asyncio\n",
    "#arduino\n",
    "import serial\n",
    "import time\n",
    "import math"
   ]
  },
  {
   "cell_type": "markdown",
   "id": "5a267b04",
   "metadata": {},
   "source": [
    "Connection to OPC-UA"
   ]
  },
  {
   "cell_type": "code",
   "execution_count": 2,
   "id": "a6dee75e",
   "metadata": {},
   "outputs": [
    {
     "name": "stderr",
     "output_type": "stream",
     "text": [
      "Requested session timeout to be 3600000ms, got 30000ms instead\n"
     ]
    }
   ],
   "source": [
    "url = \"opc.tcp://192.168.0.1:4840\"\n",
    "plc = Client(url)\n",
    "await plc.connect()\n",
    "n_rtd = plc.get_node(\"ns=3;s=\\\"PLC DB\\\".\\\"RTD\\\"\")"
   ]
  },
  {
   "cell_type": "markdown",
   "id": "d2f27568",
   "metadata": {},
   "source": [
    "Connection to arduino via Serial"
   ]
  },
  {
   "cell_type": "code",
   "execution_count": 3,
   "id": "968d1827",
   "metadata": {},
   "outputs": [],
   "source": [
    "#initialize\n",
    "arduino = serial.Serial(port='COM20', baudrate=115200, timeout=.1)"
   ]
  },
  {
   "cell_type": "markdown",
   "id": "99dd3891",
   "metadata": {},
   "source": [
    "Simple single fan color writing"
   ]
  },
  {
   "cell_type": "code",
   "execution_count": 3,
   "id": "625ace90",
   "metadata": {},
   "outputs": [],
   "source": [
    "p11 = 4 #number of LEDs fully bright 0-9\n",
    "p12 = 120 #brightness of the next LED 0-255\n",
    "p21= 6 #number of LEDs fully bright 0-9\n",
    "p22 = 200 #brightness of the next LED 0-255\n",
    "color = 120 #hue value of displayed color (to be calculated from rtd reading with log scaling)"
   ]
  },
  {
   "cell_type": "code",
   "execution_count": 5,
   "id": "08210177",
   "metadata": {},
   "outputs": [
    {
     "data": {
      "text/plain": [
       "17"
      ]
     },
     "execution_count": 5,
     "metadata": {},
     "output_type": "execute_result"
    }
   ],
   "source": [
    "arduino.write(('<' + str(color) + ',' + str(p11) + ','  + str(p12) + ','  + str(p21) + ','  + str(p22) + '>').encode('ascii')) #240=>120"
   ]
  },
  {
   "cell_type": "markdown",
   "id": "c1941dbd",
   "metadata": {},
   "source": [
    "Constant update of fan color for 50 seconds"
   ]
  },
  {
   "cell_type": "code",
   "execution_count": 4,
   "id": "49acbc48",
   "metadata": {},
   "outputs": [],
   "source": [
    "counter = 0\n",
    "progress = 0\n",
    "while counter < 100:\n",
    "    rtd = await n_rtd.get_value()\n",
    "    progress += 50\n",
    "    p11 = int(progress/255)\n",
    "    p12 = progress%255\n",
    "    p21 = int((255*9 - progress)/255)\n",
    "    p22 = (255*9 - progress)%255\n",
    "    if (progress > 255*9):\n",
    "        progress = 0\n",
    "    color = int(min(max(math.log(rtd)-2.3,0)/3.2,1)*120+120)\n",
    "    arduino.write(('<' + str(color) + ',' + str(p11) + ','  + str(p12) + ','  + str(p21) + ','  + str(p22) + '>').encode('ascii')) #240=>120\n",
    "    time.sleep(0.5)\n",
    "    counter = counter + 1"
   ]
  },
  {
   "cell_type": "code",
   "execution_count": null,
   "id": "d9ef3c7d",
   "metadata": {},
   "outputs": [],
   "source": [
    "arduino.write(('<' + str(color) + ',' + str(p11) + ','  + str(p12) + ','  + str(p21) + ','  + str(p22) + '>').encode('ascii')) #240=>120"
   ]
  }
 ],
 "metadata": {
  "kernelspec": {
   "display_name": "Python [conda env:siemens]",
   "language": "python",
   "name": "conda-env-siemens-py"
  },
  "language_info": {
   "codemirror_mode": {
    "name": "ipython",
    "version": 3
   },
   "file_extension": ".py",
   "mimetype": "text/x-python",
   "name": "python",
   "nbconvert_exporter": "python",
   "pygments_lexer": "ipython3",
   "version": "3.10.4"
  }
 },
 "nbformat": 4,
 "nbformat_minor": 5
}
