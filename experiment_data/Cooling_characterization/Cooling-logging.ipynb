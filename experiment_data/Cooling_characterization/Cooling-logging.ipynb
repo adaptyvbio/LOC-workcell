{
 "cells": [
  {
   "cell_type": "code",
   "execution_count": 9,
   "id": "a1286c11",
   "metadata": {},
   "outputs": [],
   "source": [
    "import pandas as pd\n",
    "import time\n",
    "import math\n",
    "import matplotlib.pyplot as plt\n",
    "import random\n",
    "from itertools import count\n",
    "import time\n",
    "import matplotlib.pyplot as plt\n",
    "from matplotlib.animation import FuncAnimation\n",
    "from mpl_toolkits import mplot3d\n",
    "%matplotlib qt"
   ]
  },
  {
   "cell_type": "code",
   "execution_count": 10,
   "id": "ce150202",
   "metadata": {},
   "outputs": [],
   "source": [
    "df = pd.read_csv('temp.csv')\n",
    "x_values = df.time[::5]\n",
    "y_values = df.temperature[::5]/10"
   ]
  },
  {
   "cell_type": "code",
   "execution_count": 11,
   "id": "4ca33194",
   "metadata": {},
   "outputs": [],
   "source": [
    "def animate(i):\n",
    "    x.append(x_values[i])\n",
    "    y.append((y_values[i]))\n",
    "    plt.plot(x,y, scaley=True, scalex=True, color=\"green\")"
   ]
  },
  {
   "cell_type": "code",
   "execution_count": 12,
   "id": "4d836107",
   "metadata": {},
   "outputs": [],
   "source": [
    "fig = plt.figure(figsize=(12,6))\n",
    "axes = fig.add_subplot(1,1,1)\n",
    "axes.set_ylim(0, 25)\n",
    "axes.set_xlim(0, 2400)\n",
    "plt.style.use(\"seaborn\")\n",
    "fig.suptitle('Cooling process Hydra', fontsize=20)\n",
    "plt.xlabel('Time (s)', fontsize=18)\n",
    "plt.ylabel('Temperature (Degree Celcius)', fontsize=16)\n",
    "x,y = [], []\n",
    "ani = FuncAnimation(fig=fig, func=animate, interval=50)"
   ]
  }
 ],
 "metadata": {
  "kernelspec": {
   "display_name": "Python [conda env:siemens]",
   "language": "python",
   "name": "conda-env-siemens-py"
  },
  "language_info": {
   "codemirror_mode": {
    "name": "ipython",
    "version": 3
   },
   "file_extension": ".py",
   "mimetype": "text/x-python",
   "name": "python",
   "nbconvert_exporter": "python",
   "pygments_lexer": "ipython3",
   "version": "3.10.4"
  }
 },
 "nbformat": 4,
 "nbformat_minor": 5
}
